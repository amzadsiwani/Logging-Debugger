{
 "cells": [
  {
   "cell_type": "code",
   "execution_count": 5,
   "id": "e3d54f65-969d-412d-bc2f-fc51d21da89b",
   "metadata": {},
   "outputs": [
    {
     "name": "stdout",
     "output_type": "stream",
     "text": [
      "this is my print\n"
     ]
    }
   ],
   "source": [
    "print(\"this is my print\")"
   ]
  },
  {
   "cell_type": "code",
   "execution_count": 43,
   "id": "c6a90bf3-dfb0-46eb-9699-e65871702536",
   "metadata": {},
   "outputs": [],
   "source": [
    "import logging"
   ]
  },
  {
   "cell_type": "code",
   "execution_count": 44,
   "id": "3094f870-8cb1-40ba-b1d2-1fb3dc1e381d",
   "metadata": {},
   "outputs": [],
   "source": [
    "logging.basicConfig(filename = \"test.log\", level = logging.INFO)"
   ]
  },
  {
   "cell_type": "code",
   "execution_count": 45,
   "id": "1a8e1992-b2cc-413f-9949-ac22b72a52cc",
   "metadata": {},
   "outputs": [],
   "source": [
    "logging.info(\"log this line of execution\")"
   ]
  },
  {
   "cell_type": "code",
   "execution_count": 46,
   "id": "863fd3b9-18d5-40af-8d81-1c5e137403b5",
   "metadata": {},
   "outputs": [],
   "source": [
    "logging.info(\"this is my print\")"
   ]
  },
  {
   "cell_type": "code",
   "execution_count": 47,
   "id": "364e508f-544b-4d66-9141-d4de3c381fc7",
   "metadata": {},
   "outputs": [],
   "source": [
    "logging.debug(\"this is my msg\")"
   ]
  },
  {
   "cell_type": "code",
   "execution_count": 48,
   "id": "522a0df1-8633-49a6-a3e4-51280a98f945",
   "metadata": {},
   "outputs": [],
   "source": [
    "logging.warning(\"this is my warning msg\")"
   ]
  },
  {
   "cell_type": "code",
   "execution_count": 49,
   "id": "3a5392ff-d9b6-44b6-999c-bed434fa1be7",
   "metadata": {},
   "outputs": [],
   "source": [
    "logging.error(\"this is my error\")"
   ]
  },
  {
   "cell_type": "code",
   "execution_count": 50,
   "id": "843c148d-7db5-4517-8c2c-f12800c78cc1",
   "metadata": {},
   "outputs": [],
   "source": [
    "logging.critical(\"yhis is my critical msg\")"
   ]
  },
  {
   "cell_type": "code",
   "execution_count": 51,
   "id": "02e723c4-4150-4fcd-9909-0c9bc57a0722",
   "metadata": {},
   "outputs": [],
   "source": [
    "logging.shutdown()"
   ]
  },
  {
   "cell_type": "code",
   "execution_count": 52,
   "id": "b98f77f9-a563-44ea-af5a-bc659d9cde5f",
   "metadata": {},
   "outputs": [],
   "source": [
    "import logging"
   ]
  },
  {
   "cell_type": "code",
   "execution_count": null,
   "id": "28887032-9a60-4b57-864e-f0ca65200513",
   "metadata": {},
   "outputs": [],
   "source": [
    "1. NOTSET\n",
    "2. DEBUG\n",
    "3. INFO\n",
    "4. WARNING\n",
    "5. ERROR\n",
    "6. CRITICAL"
   ]
  },
  {
   "cell_type": "code",
   "execution_count": 54,
   "id": "7293a8c9-46dd-4498-88db-f28ad47b82d2",
   "metadata": {},
   "outputs": [],
   "source": [
    "logging.basicConfig(filename = \"test1.log\", level = logging.DEBUG, format = '%(asctime)s %(message)s')"
   ]
  },
  {
   "cell_type": "code",
   "execution_count": 55,
   "id": "f5b15310-25a7-4b57-a8c1-1e1c013434fe",
   "metadata": {},
   "outputs": [],
   "source": [
    "logging.info(\"this is my info logging\")\n",
    "logging.error(\"this is my error msg\")\n",
    "logging.critical(\"this is my critical\")"
   ]
  },
  {
   "cell_type": "code",
   "execution_count": 56,
   "id": "098e82a0-8adb-45cd-b4eb-526e04d9636d",
   "metadata": {},
   "outputs": [],
   "source": [
    "logging.shutdown()"
   ]
  },
  {
   "cell_type": "code",
   "execution_count": 57,
   "id": "a8d8f82c-21f1-49eb-82a8-369a6e555038",
   "metadata": {},
   "outputs": [],
   "source": [
    "import logging"
   ]
  },
  {
   "cell_type": "code",
   "execution_count": 58,
   "id": "a67d4200-66d2-45fe-8b4e-8041ec557c01",
   "metadata": {},
   "outputs": [],
   "source": [
    "logging.basicConfig(filename = \"test2.log\", level = logging.DEBUG, format = '%(asctime)s %(name)s %(levelname)s %(message)s')"
   ]
  },
  {
   "cell_type": "code",
   "execution_count": 59,
   "id": "0494b73f-5e04-4104-b587-858497a0913a",
   "metadata": {},
   "outputs": [],
   "source": [
    "logging.info(\"this is my info logging\")\n",
    "logging.error(\"this is my error msg\")\n",
    "logging.critical(\"this is my critical\")"
   ]
  },
  {
   "cell_type": "code",
   "execution_count": 60,
   "id": "79be28e5-46be-4ed2-90b6-25ad1da040a6",
   "metadata": {},
   "outputs": [],
   "source": [
    "l = [1,2,3,34,4,[2,3,4], \"sudh\", \"kumar\"]"
   ]
  },
  {
   "cell_type": "code",
   "execution_count": 63,
   "id": "0fe5d62b-54a1-4474-87e6-17e39e176185",
   "metadata": {},
   "outputs": [
    {
     "ename": "NameError",
     "evalue": "name 'l2_int' is not defined",
     "output_type": "error",
     "traceback": [
      "\u001b[0;31m---------------------------------------------------------------------------\u001b[0m",
      "\u001b[0;31mNameError\u001b[0m                                 Traceback (most recent call last)",
      "Cell \u001b[0;32mIn[63], line 17\u001b[0m\n\u001b[1;32m     15\u001b[0m         \u001b[38;5;28;01mif\u001b[39;00m \u001b[38;5;28mtype\u001b[39m(i) \u001b[38;5;241m==\u001b[39m \u001b[38;5;28mstr\u001b[39m :\n\u001b[1;32m     16\u001b[0m             l2_str\u001b[38;5;241m.\u001b[39mappend(i)\n\u001b[0;32m---> 17\u001b[0m logging\u001b[38;5;241m.\u001b[39minfo(\u001b[38;5;124m\"\u001b[39m\u001b[38;5;124mmy final result for int is \u001b[39m\u001b[38;5;132;01m{l1}\u001b[39;00m\u001b[38;5;124m and str is \u001b[39m\u001b[38;5;132;01m{l2}\u001b[39;00m\u001b[38;5;124m\"\u001b[39m\u001b[38;5;241m.\u001b[39mformat(l1 \u001b[38;5;241m=\u001b[39m \u001b[43ml2_int\u001b[49m))\n",
      "\u001b[0;31mNameError\u001b[0m: name 'l2_int' is not defined"
     ]
    }
   ],
   "source": [
    "l1_int = []\n",
    "l2_str = []\n",
    "for i in l :\n",
    "    logging.info(\"we are iterating through our list and our local var is {}\".format(l))\n",
    "    if type(i) == list :\n",
    "        logging.info(\"i am inside if statement and i am trying to check list type\"+str(i))\n",
    "        for j in i :\n",
    "            logging.info(\"i am in another for loop for list inside list element\"+str(j))\n",
    "            if type(j) == int :\n",
    "                logging.info(\"i am inside if statement\")\n",
    "                l1_int.append(j)\n",
    "    elif type(i) == int :\n",
    "        l1_int.append(i)\n",
    "    else:\n",
    "        if type(i) == str :\n",
    "            l2_str.append(i)\n",
    "logging.info(\"my final result for int is {l1} and str is {l2}\".format(l1 = l1_int, l2 ))"
   ]
  },
  {
   "cell_type": "code",
   "execution_count": 62,
   "id": "5c879eed-c17b-436a-a588-0a84d07da3fd",
   "metadata": {},
   "outputs": [
    {
     "data": {
      "text/plain": [
       "[1, 2, 3, 34, 4, 2, 3, 4]"
      ]
     },
     "execution_count": 62,
     "metadata": {},
     "output_type": "execute_result"
    }
   ],
   "source": [
    "l1_int"
   ]
  },
  {
   "cell_type": "code",
   "execution_count": null,
   "id": "b4f1fe76-8a30-4695-ad1e-152c588c20d7",
   "metadata": {},
   "outputs": [],
   "source": []
  },
  {
   "cell_type": "code",
   "execution_count": null,
   "id": "ed8f03c7-a693-4ced-b2d7-7dc41bf960a7",
   "metadata": {},
   "outputs": [],
   "source": []
  },
  {
   "cell_type": "code",
   "execution_count": null,
   "id": "234170f8-6706-4d2f-a708-cd8ea4c05f41",
   "metadata": {},
   "outputs": [],
   "source": []
  }
 ],
 "metadata": {
  "kernelspec": {
   "display_name": "Python 3 (ipykernel)",
   "language": "python",
   "name": "python3"
  },
  "language_info": {
   "codemirror_mode": {
    "name": "ipython",
    "version": 3
   },
   "file_extension": ".py",
   "mimetype": "text/x-python",
   "name": "python",
   "nbconvert_exporter": "python",
   "pygments_lexer": "ipython3",
   "version": "3.10.8"
  }
 },
 "nbformat": 4,
 "nbformat_minor": 5
}
